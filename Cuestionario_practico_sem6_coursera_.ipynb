{
  "nbformat": 4,
  "nbformat_minor": 0,
  "metadata": {
    "colab": {
      "name": "Cuestionario_practico_sem6_coursera .ipynb",
      "provenance": []
    },
    "kernelspec": {
      "name": "python3",
      "display_name": "Python 3"
    },
    "language_info": {
      "name": "python"
    }
  },
  "cells": [
    {
      "cell_type": "markdown",
      "source": [
        "#1.Pregunta 1\n",
        "Escriba una función de nombre promedio_std(). La función debe recibir una lista de números llamada lista, y debe retornar retornar el promedio de ellos, junto con su desviación estándar.\n",
        "\n",
        "Hint 1: La desviación estándar corresponde a la raíz de la suma de los cuadrados de las diferencias de cada elemento respecto al promedio, divididos por la cantidad de elementos.\n",
        "\n",
        "Hint 2: Recuerda que puedes retonar dos valores x e y utilizando la notación"
      ],
      "metadata": {
        "id": "Ym_keyQbyn2l"
      }
    },
    {
      "cell_type": "code",
      "source": [
        "ista=[46, 21, 47, 46, 58, 34, 64, 46, 8, 50, 67, 14, 85, 73, 67, 43, 89, 30, 67, 82]\n",
        "#51.85 y 22.384\n",
        "#Hint 1: La desviación estándar corresponde a\n",
        "#la raíz de la suma de los cuadrados de las diferencias de cada elemento respecto al promedio, divididos por la cantidad de elementos.\n",
        "def promedio_std(lista):\n",
        "    x = 0\n",
        "    y = 0\n",
        "    x = sum(lista) / len(lista)\n",
        "    total = 0.0\n",
        "    for i in lista:\n",
        "        total += ((i - x) ** 2)\n",
        "    y = total / (len(lista))\n",
        "    y= (y**(1/2))\n",
        "    return x,y\n",
        " \n",
        "print(promedio_std(lista))"
      ],
      "metadata": {
        "colab": {
          "base_uri": "https://localhost:8080/"
        },
        "id": "OD9_xU6kv0yo",
        "outputId": "cc9cb933-35b8-43c2-c07c-1e4a04e59633"
      },
      "execution_count": 177,
      "outputs": [
        {
          "output_type": "stream",
          "name": "stdout",
          "text": [
            "(51.85, 22.383643581865755)\n"
          ]
        }
      ]
    },
    {
      "cell_type": "markdown",
      "source": [
        "#2. Pregunta 2\n",
        "Suponga que tiene una lista de colores repetidos y desordenados, estos pueden ser: azul, rojo, verde y amarillo. Desea saber cual de esos colores es el que más se repite. Escriba una función color_frecuente que reciba como argumento a una lista de strings llamada lista y retorne el string más repetido y el número de ocurrencias del mismo.\n",
        "\n",
        "Por ejemplo para la lista ['azul', 'rojo', 'verde', 'verde', 'verde', 'rojo', 'verde', 'verde', 'azul', 'amarillo', 'azul', 'azul', 'verde', 'verde', 'verde', 'amarillo', 'amarillo']\n",
        "\n",
        "Debe retornar: \"verde\", 8\n",
        "\n",
        "En caso de que haya varios colores con el máximo número, se retornará con la siguiente prioridad: azul, rojo, verde, amarillo. Es decir, por ejemplo si la lista es l = ['rojo', 'rojo', 'azul', azul'], la función debe retornar \"azul\", 2\n",
        "\n",
        "\n"
      ],
      "metadata": {
        "id": "8UGzElF108uU"
      }
    },
    {
      "cell_type": "code",
      "source": [
        "\n",
        "def color_frecuente(lista):\n",
        "  conco = [0,0,0,0]\n",
        "  mayor=0; a=0 ; b=0 ;c=0 ;d =0\n",
        "  listacol = ['azul','rojo','verde','amarillo']\n",
        "\n",
        "  for i in range (len(lista)):\n",
        "    if lista[i] == 'azul':\n",
        "      a = a + 1\n",
        "      conco[0] = a \n",
        "    \n",
        "    elif lista[i] == 'rojo':\n",
        "      b = b + 1\n",
        "      conco[1] = str(b)\n",
        "    \n",
        "    elif lista[i] == 'verde':\n",
        "        c = c + 1\n",
        "        conco[2] = c \n",
        "\n",
        "    elif lista[i] == 'amarillo':    \n",
        "      d = d+1\n",
        "      conco[3] = d\n",
        "    \n",
        "  \n",
        "  listac = [\"\"]\n",
        "  mayorn=[\"\"]\n",
        "  for i in range (len(conco)):\n",
        "    if int(conco[i])>mayor:\n",
        "      mayor = int(conco[i])\n",
        "      mayorn[0]= mayor\n",
        "      listac[0] = listacol[i]\n",
        "     \n",
        "  return listac + mayorn\n",
        "\n",
        "   "
      ],
      "metadata": {
        "id": "ypNih4n11ICL"
      },
      "execution_count": 138,
      "outputs": []
    },
    {
      "cell_type": "code",
      "source": [
        "l = ['azul', 'rojo','azul','azul','azul', 'azul','azul','azul','verde', 'verde', 'verde', 'rojo', 'verde', 'verde', 'azul', 'amarillo', 'azul', 'azul', 'verde', 'verde', 'verde', 'amarillo', 'amarillo']\n",
        "\n"
      ],
      "metadata": {
        "id": "msxZ62Y31xKa"
      },
      "execution_count": 143,
      "outputs": []
    },
    {
      "cell_type": "code",
      "source": [
        "l2 = ['rojo', 'rojo', 'rojo', 'rojo', 'azul','azul','azul', 'azul']"
      ],
      "metadata": {
        "id": "UmlopFYLDqiQ"
      },
      "execution_count": 136,
      "outputs": []
    },
    {
      "cell_type": "code",
      "source": [
        "color = color_frecuente(l)\n",
        "print(color)"
      ],
      "metadata": {
        "colab": {
          "base_uri": "https://localhost:8080/"
        },
        "id": "dQORuLX51-cK",
        "outputId": "c6ce5b94-65f2-4bf9-beb5-88c741247b05"
      },
      "execution_count": 144,
      "outputs": [
        {
          "output_type": "stream",
          "name": "stdout",
          "text": [
            "['azul', 10]\n"
          ]
        }
      ]
    }
  ]
}